{
  "nbformat": 4,
  "nbformat_minor": 0,
  "metadata": {
    "colab": {
      "name": "Shoulder_Inception.ipynb",
      "version": "0.3.2",
      "provenance": []
    },
    "kernelspec": {
      "name": "python3",
      "display_name": "Python 3"
    },
    "accelerator": "TPU"
  },
  "cells": [
    {
      "metadata": {
        "id": "zwouPW4kP8Sv",
        "colab_type": "code",
        "outputId": "ff00b1e1-bc71-4e0a-b5e3-476e6f930337",
        "colab": {
          "base_uri": "https://localhost:8080/",
          "height": 122
        }
      },
      "cell_type": "code",
      "source": [
        "from google.colab import drive\n",
        "drive.mount('/gdrive')"
      ],
      "execution_count": 0,
      "outputs": [
        {
          "output_type": "stream",
          "text": [
            "Go to this URL in a browser: https://accounts.google.com/o/oauth2/auth?client_id=947318989803-6bn6qk8qdgf4n4g3pfee6491hc0brc4i.apps.googleusercontent.com&redirect_uri=urn%3Aietf%3Awg%3Aoauth%3A2.0%3Aoob&scope=email%20https%3A%2F%2Fwww.googleapis.com%2Fauth%2Fdocs.test%20https%3A%2F%2Fwww.googleapis.com%2Fauth%2Fdrive%20https%3A%2F%2Fwww.googleapis.com%2Fauth%2Fdrive.photos.readonly%20https%3A%2F%2Fwww.googleapis.com%2Fauth%2Fpeopleapi.readonly&response_type=code\n",
            "\n",
            "Enter your authorization code:\n",
            "··········\n",
            "Mounted at /gdrive\n"
          ],
          "name": "stdout"
        }
      ]
    },
    {
      "metadata": {
        "id": "-INqNPdIQJCI",
        "colab_type": "code",
        "colab": {}
      },
      "cell_type": "code",
      "source": [
        "import pandas as pd\n",
        "import numpy as np\n",
        "import os\n",
        "import tqdm\n",
        "import keras\n",
        "\n",
        "from keras_preprocessing.image import ImageDataGenerator\n",
        "from keras.preprocessing.image import load_img, image\n",
        "from keras.applications.densenet import DenseNet169,preprocess_input\n",
        "from keras.applications.inception_v3 import InceptionV3\n",
        "from keras.initializers import glorot_uniform\n",
        "from keras.models import Model\n",
        "from keras.layers import Dense, Activation ,Dropout, BatchNormalization\n",
        "from keras import regularizers\n",
        "from keras.callbacks import EarlyStopping, TensorBoard"
      ],
      "execution_count": 0,
      "outputs": []
    },
    {
      "metadata": {
        "id": "p77RKJD1QShf",
        "colab_type": "code",
        "colab": {}
      },
      "cell_type": "code",
      "source": [
        "DATASET_DIR  = '/gdrive/My Drive/MURA/'\n",
        "TRAIN_DIR    = DATASET_DIR + 'MURA-v1.2/train/'\n",
        "VAL_DIR      = DATASET_DIR + 'MURA-v1.2/valid/'\n",
        "PART_NAME    = 'XR_SHOULDER'\n",
        "TRAIN_LABELS = DATASET_DIR+'train_labeled_studies.csv'\n",
        "VAL_LABELS   = DATASET_DIR+'valid_labeled_studies.csv'"
      ],
      "execution_count": 0,
      "outputs": []
    },
    {
      "metadata": {
        "id": "UfX-QWhIQYFe",
        "colab_type": "code",
        "colab": {}
      },
      "cell_type": "code",
      "source": [
        "train_labels = pd.read_csv(TRAIN_LABELS, header = None)\n",
        "val_labels   = pd.read_csv(VAL_LABELS, header = None)"
      ],
      "execution_count": 0,
      "outputs": []
    },
    {
      "metadata": {
        "id": "fp9mQAQ9QbCW",
        "colab_type": "code",
        "colab": {}
      },
      "cell_type": "code",
      "source": [
        "train_labels = train_labels.set_index(0).T.to_dict('list')\n",
        "val_labels = val_labels.set_index(0).T.to_dict('list')"
      ],
      "execution_count": 0,
      "outputs": []
    },
    {
      "metadata": {
        "id": "tnvp5EGwQddx",
        "colab_type": "code",
        "colab": {}
      },
      "cell_type": "code",
      "source": [
        "def prepare_data(labels, data_path, part, mode):\n",
        "    BASE_DIR = 'MURA-v1.1/'+mode+'/'+part+'/'\n",
        "    FILE_DIR = 'MURA-v1.2/'+mode+'/'+part+'/'\n",
        "    df = pd.DataFrame(columns = ['Path', 'Label'])\n",
        "    i=0\n",
        "    for patient in os.listdir(data_path):\n",
        "        for study in os.listdir(data_path+'/'+patient):\n",
        "            for img in os.listdir(data_path+'/'+patient+'/'+study):\n",
        "                if '_' not in list(img):\n",
        "                    path = FILE_DIR+patient+'/'+study+'/'\n",
        "                    label_path = BASE_DIR+patient+'/'+study+'/'\n",
        "                    df.loc[i] = [path+img, int(labels[label_path][0])]\n",
        "                    i=i+1\n",
        "    return df\n",
        "    "
      ],
      "execution_count": 0,
      "outputs": []
    },
    {
      "metadata": {
        "id": "0L-WZEwPQhK4",
        "colab_type": "code",
        "colab": {}
      },
      "cell_type": "code",
      "source": [
        "train_data = prepare_data(train_labels, TRAIN_DIR+PART_NAME, PART_NAME,'train')\n",
        "val_data = prepare_data(val_labels, VAL_DIR+PART_NAME, PART_NAME,'valid')"
      ],
      "execution_count": 0,
      "outputs": []
    },
    {
      "metadata": {
        "id": "blB5ZaUvQj1-",
        "colab_type": "code",
        "outputId": "c6af8b71-ef52-4b14-924e-b24b396a8811",
        "colab": {
          "base_uri": "https://localhost:8080/",
          "height": 1969
        }
      },
      "cell_type": "code",
      "source": [
        "train_data"
      ],
      "execution_count": 0,
      "outputs": [
        {
          "output_type": "execute_result",
          "data": {
            "text/html": [
              "<div>\n",
              "<style scoped>\n",
              "    .dataframe tbody tr th:only-of-type {\n",
              "        vertical-align: middle;\n",
              "    }\n",
              "\n",
              "    .dataframe tbody tr th {\n",
              "        vertical-align: top;\n",
              "    }\n",
              "\n",
              "    .dataframe thead th {\n",
              "        text-align: right;\n",
              "    }\n",
              "</style>\n",
              "<table border=\"1\" class=\"dataframe\">\n",
              "  <thead>\n",
              "    <tr style=\"text-align: right;\">\n",
              "      <th></th>\n",
              "      <th>Path</th>\n",
              "      <th>Label</th>\n",
              "    </tr>\n",
              "  </thead>\n",
              "  <tbody>\n",
              "    <tr>\n",
              "      <th>0</th>\n",
              "      <td>MURA-v1.2/train/XR_SHOULDER/patient00018/study...</td>\n",
              "      <td>1</td>\n",
              "    </tr>\n",
              "    <tr>\n",
              "      <th>1</th>\n",
              "      <td>MURA-v1.2/train/XR_SHOULDER/patient00018/study...</td>\n",
              "      <td>1</td>\n",
              "    </tr>\n",
              "    <tr>\n",
              "      <th>2</th>\n",
              "      <td>MURA-v1.2/train/XR_SHOULDER/patient01610/study...</td>\n",
              "      <td>0</td>\n",
              "    </tr>\n",
              "    <tr>\n",
              "      <th>3</th>\n",
              "      <td>MURA-v1.2/train/XR_SHOULDER/patient01610/study...</td>\n",
              "      <td>0</td>\n",
              "    </tr>\n",
              "    <tr>\n",
              "      <th>4</th>\n",
              "      <td>MURA-v1.2/train/XR_SHOULDER/patient01610/study...</td>\n",
              "      <td>0</td>\n",
              "    </tr>\n",
              "    <tr>\n",
              "      <th>5</th>\n",
              "      <td>MURA-v1.2/train/XR_SHOULDER/patient01610/study...</td>\n",
              "      <td>0</td>\n",
              "    </tr>\n",
              "    <tr>\n",
              "      <th>6</th>\n",
              "      <td>MURA-v1.2/train/XR_SHOULDER/patient01381/study...</td>\n",
              "      <td>1</td>\n",
              "    </tr>\n",
              "    <tr>\n",
              "      <th>7</th>\n",
              "      <td>MURA-v1.2/train/XR_SHOULDER/patient02457/study...</td>\n",
              "      <td>0</td>\n",
              "    </tr>\n",
              "    <tr>\n",
              "      <th>8</th>\n",
              "      <td>MURA-v1.2/train/XR_SHOULDER/patient02457/study...</td>\n",
              "      <td>0</td>\n",
              "    </tr>\n",
              "    <tr>\n",
              "      <th>9</th>\n",
              "      <td>MURA-v1.2/train/XR_SHOULDER/patient02457/study...</td>\n",
              "      <td>0</td>\n",
              "    </tr>\n",
              "    <tr>\n",
              "      <th>10</th>\n",
              "      <td>MURA-v1.2/train/XR_SHOULDER/patient00506/study...</td>\n",
              "      <td>1</td>\n",
              "    </tr>\n",
              "    <tr>\n",
              "      <th>11</th>\n",
              "      <td>MURA-v1.2/train/XR_SHOULDER/patient00506/study...</td>\n",
              "      <td>1</td>\n",
              "    </tr>\n",
              "    <tr>\n",
              "      <th>12</th>\n",
              "      <td>MURA-v1.2/train/XR_SHOULDER/patient00506/study...</td>\n",
              "      <td>1</td>\n",
              "    </tr>\n",
              "    <tr>\n",
              "      <th>13</th>\n",
              "      <td>MURA-v1.2/train/XR_SHOULDER/patient00506/study...</td>\n",
              "      <td>1</td>\n",
              "    </tr>\n",
              "    <tr>\n",
              "      <th>14</th>\n",
              "      <td>MURA-v1.2/train/XR_SHOULDER/patient02544/study...</td>\n",
              "      <td>0</td>\n",
              "    </tr>\n",
              "    <tr>\n",
              "      <th>15</th>\n",
              "      <td>MURA-v1.2/train/XR_SHOULDER/patient02544/study...</td>\n",
              "      <td>0</td>\n",
              "    </tr>\n",
              "    <tr>\n",
              "      <th>16</th>\n",
              "      <td>MURA-v1.2/train/XR_SHOULDER/patient02544/study...</td>\n",
              "      <td>0</td>\n",
              "    </tr>\n",
              "    <tr>\n",
              "      <th>17</th>\n",
              "      <td>MURA-v1.2/train/XR_SHOULDER/patient00103/study...</td>\n",
              "      <td>1</td>\n",
              "    </tr>\n",
              "    <tr>\n",
              "      <th>18</th>\n",
              "      <td>MURA-v1.2/train/XR_SHOULDER/patient00103/study...</td>\n",
              "      <td>1</td>\n",
              "    </tr>\n",
              "    <tr>\n",
              "      <th>19</th>\n",
              "      <td>MURA-v1.2/train/XR_SHOULDER/patient01875/study...</td>\n",
              "      <td>0</td>\n",
              "    </tr>\n",
              "    <tr>\n",
              "      <th>20</th>\n",
              "      <td>MURA-v1.2/train/XR_SHOULDER/patient01875/study...</td>\n",
              "      <td>0</td>\n",
              "    </tr>\n",
              "    <tr>\n",
              "      <th>21</th>\n",
              "      <td>MURA-v1.2/train/XR_SHOULDER/patient01875/study...</td>\n",
              "      <td>0</td>\n",
              "    </tr>\n",
              "    <tr>\n",
              "      <th>22</th>\n",
              "      <td>MURA-v1.2/train/XR_SHOULDER/patient01823/study...</td>\n",
              "      <td>0</td>\n",
              "    </tr>\n",
              "    <tr>\n",
              "      <th>23</th>\n",
              "      <td>MURA-v1.2/train/XR_SHOULDER/patient01823/study...</td>\n",
              "      <td>0</td>\n",
              "    </tr>\n",
              "    <tr>\n",
              "      <th>24</th>\n",
              "      <td>MURA-v1.2/train/XR_SHOULDER/patient00727/study...</td>\n",
              "      <td>1</td>\n",
              "    </tr>\n",
              "    <tr>\n",
              "      <th>25</th>\n",
              "      <td>MURA-v1.2/train/XR_SHOULDER/patient00727/study...</td>\n",
              "      <td>1</td>\n",
              "    </tr>\n",
              "    <tr>\n",
              "      <th>26</th>\n",
              "      <td>MURA-v1.2/train/XR_SHOULDER/patient00727/study...</td>\n",
              "      <td>1</td>\n",
              "    </tr>\n",
              "    <tr>\n",
              "      <th>27</th>\n",
              "      <td>MURA-v1.2/train/XR_SHOULDER/patient00727/study...</td>\n",
              "      <td>1</td>\n",
              "    </tr>\n",
              "    <tr>\n",
              "      <th>28</th>\n",
              "      <td>MURA-v1.2/train/XR_SHOULDER/patient02566/study...</td>\n",
              "      <td>0</td>\n",
              "    </tr>\n",
              "    <tr>\n",
              "      <th>29</th>\n",
              "      <td>MURA-v1.2/train/XR_SHOULDER/patient02566/study...</td>\n",
              "      <td>0</td>\n",
              "    </tr>\n",
              "    <tr>\n",
              "      <th>...</th>\n",
              "      <td>...</td>\n",
              "      <td>...</td>\n",
              "    </tr>\n",
              "    <tr>\n",
              "      <th>8349</th>\n",
              "      <td>MURA-v1.2/train/XR_SHOULDER/patient01323/study...</td>\n",
              "      <td>1</td>\n",
              "    </tr>\n",
              "    <tr>\n",
              "      <th>8350</th>\n",
              "      <td>MURA-v1.2/train/XR_SHOULDER/patient00685/study...</td>\n",
              "      <td>1</td>\n",
              "    </tr>\n",
              "    <tr>\n",
              "      <th>8351</th>\n",
              "      <td>MURA-v1.2/train/XR_SHOULDER/patient00685/study...</td>\n",
              "      <td>1</td>\n",
              "    </tr>\n",
              "    <tr>\n",
              "      <th>8352</th>\n",
              "      <td>MURA-v1.2/train/XR_SHOULDER/patient00685/study...</td>\n",
              "      <td>1</td>\n",
              "    </tr>\n",
              "    <tr>\n",
              "      <th>8353</th>\n",
              "      <td>MURA-v1.2/train/XR_SHOULDER/patient00533/study...</td>\n",
              "      <td>1</td>\n",
              "    </tr>\n",
              "    <tr>\n",
              "      <th>8354</th>\n",
              "      <td>MURA-v1.2/train/XR_SHOULDER/patient00533/study...</td>\n",
              "      <td>1</td>\n",
              "    </tr>\n",
              "    <tr>\n",
              "      <th>8355</th>\n",
              "      <td>MURA-v1.2/train/XR_SHOULDER/patient00533/study...</td>\n",
              "      <td>1</td>\n",
              "    </tr>\n",
              "    <tr>\n",
              "      <th>8356</th>\n",
              "      <td>MURA-v1.2/train/XR_SHOULDER/patient00533/study...</td>\n",
              "      <td>1</td>\n",
              "    </tr>\n",
              "    <tr>\n",
              "      <th>8357</th>\n",
              "      <td>MURA-v1.2/train/XR_SHOULDER/patient01899/study...</td>\n",
              "      <td>0</td>\n",
              "    </tr>\n",
              "    <tr>\n",
              "      <th>8358</th>\n",
              "      <td>MURA-v1.2/train/XR_SHOULDER/patient01899/study...</td>\n",
              "      <td>0</td>\n",
              "    </tr>\n",
              "    <tr>\n",
              "      <th>8359</th>\n",
              "      <td>MURA-v1.2/train/XR_SHOULDER/patient01899/study...</td>\n",
              "      <td>0</td>\n",
              "    </tr>\n",
              "    <tr>\n",
              "      <th>8360</th>\n",
              "      <td>MURA-v1.2/train/XR_SHOULDER/patient02300/study...</td>\n",
              "      <td>0</td>\n",
              "    </tr>\n",
              "    <tr>\n",
              "      <th>8361</th>\n",
              "      <td>MURA-v1.2/train/XR_SHOULDER/patient02300/study...</td>\n",
              "      <td>0</td>\n",
              "    </tr>\n",
              "    <tr>\n",
              "      <th>8362</th>\n",
              "      <td>MURA-v1.2/train/XR_SHOULDER/patient02300/study...</td>\n",
              "      <td>0</td>\n",
              "    </tr>\n",
              "    <tr>\n",
              "      <th>8363</th>\n",
              "      <td>MURA-v1.2/train/XR_SHOULDER/patient02300/study...</td>\n",
              "      <td>0</td>\n",
              "    </tr>\n",
              "    <tr>\n",
              "      <th>8364</th>\n",
              "      <td>MURA-v1.2/train/XR_SHOULDER/patient02193/study...</td>\n",
              "      <td>0</td>\n",
              "    </tr>\n",
              "    <tr>\n",
              "      <th>8365</th>\n",
              "      <td>MURA-v1.2/train/XR_SHOULDER/patient02193/study...</td>\n",
              "      <td>0</td>\n",
              "    </tr>\n",
              "    <tr>\n",
              "      <th>8366</th>\n",
              "      <td>MURA-v1.2/train/XR_SHOULDER/patient02193/study...</td>\n",
              "      <td>0</td>\n",
              "    </tr>\n",
              "    <tr>\n",
              "      <th>8367</th>\n",
              "      <td>MURA-v1.2/train/XR_SHOULDER/patient00181/study...</td>\n",
              "      <td>1</td>\n",
              "    </tr>\n",
              "    <tr>\n",
              "      <th>8368</th>\n",
              "      <td>MURA-v1.2/train/XR_SHOULDER/patient00181/study...</td>\n",
              "      <td>1</td>\n",
              "    </tr>\n",
              "    <tr>\n",
              "      <th>8369</th>\n",
              "      <td>MURA-v1.2/train/XR_SHOULDER/patient00181/study...</td>\n",
              "      <td>1</td>\n",
              "    </tr>\n",
              "    <tr>\n",
              "      <th>8370</th>\n",
              "      <td>MURA-v1.2/train/XR_SHOULDER/patient00628/study...</td>\n",
              "      <td>1</td>\n",
              "    </tr>\n",
              "    <tr>\n",
              "      <th>8371</th>\n",
              "      <td>MURA-v1.2/train/XR_SHOULDER/patient00628/study...</td>\n",
              "      <td>1</td>\n",
              "    </tr>\n",
              "    <tr>\n",
              "      <th>8372</th>\n",
              "      <td>MURA-v1.2/train/XR_SHOULDER/patient00628/study...</td>\n",
              "      <td>1</td>\n",
              "    </tr>\n",
              "    <tr>\n",
              "      <th>8373</th>\n",
              "      <td>MURA-v1.2/train/XR_SHOULDER/patient00628/study...</td>\n",
              "      <td>1</td>\n",
              "    </tr>\n",
              "    <tr>\n",
              "      <th>8374</th>\n",
              "      <td>MURA-v1.2/train/XR_SHOULDER/patient02125/study...</td>\n",
              "      <td>0</td>\n",
              "    </tr>\n",
              "    <tr>\n",
              "      <th>8375</th>\n",
              "      <td>MURA-v1.2/train/XR_SHOULDER/patient02125/study...</td>\n",
              "      <td>0</td>\n",
              "    </tr>\n",
              "    <tr>\n",
              "      <th>8376</th>\n",
              "      <td>MURA-v1.2/train/XR_SHOULDER/patient02125/study...</td>\n",
              "      <td>0</td>\n",
              "    </tr>\n",
              "    <tr>\n",
              "      <th>8377</th>\n",
              "      <td>MURA-v1.2/train/XR_SHOULDER/patient02125/study...</td>\n",
              "      <td>0</td>\n",
              "    </tr>\n",
              "    <tr>\n",
              "      <th>8378</th>\n",
              "      <td>MURA-v1.2/train/XR_SHOULDER/patient02506/study...</td>\n",
              "      <td>0</td>\n",
              "    </tr>\n",
              "  </tbody>\n",
              "</table>\n",
              "<p>8379 rows × 2 columns</p>\n",
              "</div>"
            ],
            "text/plain": [
              "                                                   Path Label\n",
              "0     MURA-v1.2/train/XR_SHOULDER/patient00018/study...     1\n",
              "1     MURA-v1.2/train/XR_SHOULDER/patient00018/study...     1\n",
              "2     MURA-v1.2/train/XR_SHOULDER/patient01610/study...     0\n",
              "3     MURA-v1.2/train/XR_SHOULDER/patient01610/study...     0\n",
              "4     MURA-v1.2/train/XR_SHOULDER/patient01610/study...     0\n",
              "5     MURA-v1.2/train/XR_SHOULDER/patient01610/study...     0\n",
              "6     MURA-v1.2/train/XR_SHOULDER/patient01381/study...     1\n",
              "7     MURA-v1.2/train/XR_SHOULDER/patient02457/study...     0\n",
              "8     MURA-v1.2/train/XR_SHOULDER/patient02457/study...     0\n",
              "9     MURA-v1.2/train/XR_SHOULDER/patient02457/study...     0\n",
              "10    MURA-v1.2/train/XR_SHOULDER/patient00506/study...     1\n",
              "11    MURA-v1.2/train/XR_SHOULDER/patient00506/study...     1\n",
              "12    MURA-v1.2/train/XR_SHOULDER/patient00506/study...     1\n",
              "13    MURA-v1.2/train/XR_SHOULDER/patient00506/study...     1\n",
              "14    MURA-v1.2/train/XR_SHOULDER/patient02544/study...     0\n",
              "15    MURA-v1.2/train/XR_SHOULDER/patient02544/study...     0\n",
              "16    MURA-v1.2/train/XR_SHOULDER/patient02544/study...     0\n",
              "17    MURA-v1.2/train/XR_SHOULDER/patient00103/study...     1\n",
              "18    MURA-v1.2/train/XR_SHOULDER/patient00103/study...     1\n",
              "19    MURA-v1.2/train/XR_SHOULDER/patient01875/study...     0\n",
              "20    MURA-v1.2/train/XR_SHOULDER/patient01875/study...     0\n",
              "21    MURA-v1.2/train/XR_SHOULDER/patient01875/study...     0\n",
              "22    MURA-v1.2/train/XR_SHOULDER/patient01823/study...     0\n",
              "23    MURA-v1.2/train/XR_SHOULDER/patient01823/study...     0\n",
              "24    MURA-v1.2/train/XR_SHOULDER/patient00727/study...     1\n",
              "25    MURA-v1.2/train/XR_SHOULDER/patient00727/study...     1\n",
              "26    MURA-v1.2/train/XR_SHOULDER/patient00727/study...     1\n",
              "27    MURA-v1.2/train/XR_SHOULDER/patient00727/study...     1\n",
              "28    MURA-v1.2/train/XR_SHOULDER/patient02566/study...     0\n",
              "29    MURA-v1.2/train/XR_SHOULDER/patient02566/study...     0\n",
              "...                                                 ...   ...\n",
              "8349  MURA-v1.2/train/XR_SHOULDER/patient01323/study...     1\n",
              "8350  MURA-v1.2/train/XR_SHOULDER/patient00685/study...     1\n",
              "8351  MURA-v1.2/train/XR_SHOULDER/patient00685/study...     1\n",
              "8352  MURA-v1.2/train/XR_SHOULDER/patient00685/study...     1\n",
              "8353  MURA-v1.2/train/XR_SHOULDER/patient00533/study...     1\n",
              "8354  MURA-v1.2/train/XR_SHOULDER/patient00533/study...     1\n",
              "8355  MURA-v1.2/train/XR_SHOULDER/patient00533/study...     1\n",
              "8356  MURA-v1.2/train/XR_SHOULDER/patient00533/study...     1\n",
              "8357  MURA-v1.2/train/XR_SHOULDER/patient01899/study...     0\n",
              "8358  MURA-v1.2/train/XR_SHOULDER/patient01899/study...     0\n",
              "8359  MURA-v1.2/train/XR_SHOULDER/patient01899/study...     0\n",
              "8360  MURA-v1.2/train/XR_SHOULDER/patient02300/study...     0\n",
              "8361  MURA-v1.2/train/XR_SHOULDER/patient02300/study...     0\n",
              "8362  MURA-v1.2/train/XR_SHOULDER/patient02300/study...     0\n",
              "8363  MURA-v1.2/train/XR_SHOULDER/patient02300/study...     0\n",
              "8364  MURA-v1.2/train/XR_SHOULDER/patient02193/study...     0\n",
              "8365  MURA-v1.2/train/XR_SHOULDER/patient02193/study...     0\n",
              "8366  MURA-v1.2/train/XR_SHOULDER/patient02193/study...     0\n",
              "8367  MURA-v1.2/train/XR_SHOULDER/patient00181/study...     1\n",
              "8368  MURA-v1.2/train/XR_SHOULDER/patient00181/study...     1\n",
              "8369  MURA-v1.2/train/XR_SHOULDER/patient00181/study...     1\n",
              "8370  MURA-v1.2/train/XR_SHOULDER/patient00628/study...     1\n",
              "8371  MURA-v1.2/train/XR_SHOULDER/patient00628/study...     1\n",
              "8372  MURA-v1.2/train/XR_SHOULDER/patient00628/study...     1\n",
              "8373  MURA-v1.2/train/XR_SHOULDER/patient00628/study...     1\n",
              "8374  MURA-v1.2/train/XR_SHOULDER/patient02125/study...     0\n",
              "8375  MURA-v1.2/train/XR_SHOULDER/patient02125/study...     0\n",
              "8376  MURA-v1.2/train/XR_SHOULDER/patient02125/study...     0\n",
              "8377  MURA-v1.2/train/XR_SHOULDER/patient02125/study...     0\n",
              "8378  MURA-v1.2/train/XR_SHOULDER/patient02506/study...     0\n",
              "\n",
              "[8379 rows x 2 columns]"
            ]
          },
          "metadata": {
            "tags": []
          },
          "execution_count": 9
        }
      ]
    },
    {
      "metadata": {
        "id": "7ynehipvQm6y",
        "colab_type": "code",
        "colab": {}
      },
      "cell_type": "code",
      "source": [
        "train_data['Label'] = pd.to_numeric(train_data['Label'])\n",
        "val_data['Label'] = pd.to_numeric(val_data['Label'])"
      ],
      "execution_count": 0,
      "outputs": []
    },
    {
      "metadata": {
        "id": "MfrUMbBcQpr0",
        "colab_type": "code",
        "outputId": "70557d45-1f12-4a81-cf03-7910e34b5e9f",
        "colab": {
          "base_uri": "https://localhost:8080/",
          "height": 319
        }
      },
      "cell_type": "code",
      "source": [
        "import seaborn as sns\n",
        "from matplotlib import pyplot as plt\n",
        "sns.set(style=\"darkgrid\")\n",
        "sns.set(font_scale=1.3)\n",
        "\n",
        "sns.factorplot(x=\"Label\", data=train_data, kind=\"count\")\n",
        "plt.show();"
      ],
      "execution_count": 0,
      "outputs": [
        {
          "output_type": "stream",
          "text": [
            "/usr/local/lib/python3.6/dist-packages/seaborn/categorical.py:1428: FutureWarning: remove_na is deprecated and is a private function. Do not use.\n",
            "  stat_data = remove_na(group_data)\n"
          ],
          "name": "stderr"
        },
        {
          "output_type": "display_data",
          "data": {
            "image/png": "[encoded data removed]",
            "text/plain": [
              "<Figure size 288x288 with 1 Axes>"
            ]
          },
          "metadata": {
            "tags": []
          }
        }
      ]
    },
    {
      "metadata": {
        "id": "unyaSeUeQtJV",
        "colab_type": "code",
        "colab": {}
      },
      "cell_type": "code",
      "source": [
        "def build_model():\n",
        "  \n",
        "    rate_drop_dense = 0.15 + np.random.rand() * 0.25\n",
        "    base_model = InceptionV3(\n",
        "                          weights=None, \n",
        "                          input_shape=(224, 224, 1), \n",
        "                          pooling='max', \n",
        "                          classes=1)\n",
        "\n",
        "    \n",
        "    for layer in base_model.layers:\n",
        "        layer.trainable = True\n",
        "\n",
        "    x = base_model.output\n",
        "    x = Dense(1000, kernel_regularizer=regularizers.l1_l2(0.01), activity_regularizer=regularizers.l2(0.01))(x)\n",
        "    x = Dropout(rate_drop_dense)(x)\n",
        "    x = BatchNormalization()(x)\n",
        "    x = Activation('relu')(x)\n",
        "    x = Dense(500, kernel_regularizer=regularizers.l1_l2(0.01), activity_regularizer=regularizers.l2(0.01))(x)\n",
        "    x = Dropout(rate_drop_dense)(x)\n",
        "    x = BatchNormalization()(x)\n",
        "    x = Activation('relu')(x)\n",
        "    \n",
        "    predictions = Dense(1,activation='sigmoid')(x)\n",
        "    model = Model(inputs=base_model.input, outputs=predictions)\n",
        "    \n",
        "    return model"
      ],
      "execution_count": 0,
      "outputs": []
    },
    {
      "metadata": {
        "id": "4646xXSlQvxH",
        "colab_type": "code",
        "outputId": "801b5b80-ea22-43f2-8d33-9d6ba62a62a8",
        "colab": {
          "base_uri": "https://localhost:8080/",
          "height": 88
        }
      },
      "cell_type": "code",
      "source": [
        "model = build_model()\n",
        "nadam=keras.optimizers.Nadam(lr=0.0002, beta_1=0.9, beta_2=0.999, epsilon=None, schedule_decay=0.004)\n",
        "model.compile(loss='binary_crossentropy', optimizer=nadam, metrics=['acc', 'mse'])"
      ],
      "execution_count": 0,
      "outputs": [
        {
          "output_type": "stream",
          "text": [
            "WARNING:tensorflow:From /usr/local/lib/python3.6/dist-packages/keras/backend/tensorflow_backend.py:3445: calling dropout (from tensorflow.python.ops.nn_ops) with keep_prob is deprecated and will be removed in a future version.\n",
            "Instructions for updating:\n",
            "Please use `rate` instead of `keep_prob`. Rate should be set to `rate = 1 - keep_prob`.\n"
          ],
          "name": "stdout"
        }
      ]
    },
    {
      "metadata": {
        "id": "_2gXLVe9Q07l",
        "colab_type": "code",
        "colab": {}
      },
      "cell_type": "code",
      "source": [
        "NUM_SAMPLES=train_data.shape[0]\n",
        "VAL_SIZE=val_data.shape[0]\n",
        "BATCH_SIZE=128\n",
        "NUM_EPOCHS = 20"
      ],
      "execution_count": 0,
      "outputs": []
    },
    {
      "metadata": {
        "id": "5zMX5du-Q5ju",
        "colab_type": "code",
        "colab": {}
      },
      "cell_type": "code",
      "source": [
        "train_datagen = ImageDataGenerator(\n",
        "    rescale=1. / 255,\n",
        "    zoom_range=0.2,\n",
        "    rotation_range=5,\n",
        "    horizontal_flip=True\n",
        ")"
      ],
      "execution_count": 0,
      "outputs": []
    },
    {
      "metadata": {
        "id": "4lLQYdX-Q8ZF",
        "colab_type": "code",
        "outputId": "36b71800-5c6d-42b6-cd3e-1b9f2579645e",
        "colab": {
          "base_uri": "https://localhost:8080/",
          "height": 34
        }
      },
      "cell_type": "code",
      "source": [
        "train_generator = train_datagen.flow_from_dataframe(\n",
        "    dataframe = train_data, \n",
        "    directory  = DATASET_DIR,\n",
        "    x_col = \"Path\", \n",
        "    y_col = \"Label\", \n",
        "    target_size=(224, 224),\n",
        "    color_mode='grayscale', \n",
        "    class_mode='other', \n",
        "    batch_size=32\n",
        ")"
      ],
      "execution_count": 0,
      "outputs": [
        {
          "output_type": "stream",
          "text": [
            "Found 8379 images.\n"
          ],
          "name": "stdout"
        }
      ]
    },
    {
      "metadata": {
        "id": "b_5kGxH1Q-uu",
        "colab_type": "code",
        "colab": {}
      },
      "cell_type": "code",
      "source": [
        "val_datagen = ImageDataGenerator(\n",
        "    rescale = 1. /255)"
      ],
      "execution_count": 0,
      "outputs": []
    },
    {
      "metadata": {
        "id": "iT6CufmMRBic",
        "colab_type": "code",
        "outputId": "6edb4848-edba-4e00-ee6c-2f5439537936",
        "colab": {
          "base_uri": "https://localhost:8080/",
          "height": 34
        }
      },
      "cell_type": "code",
      "source": [
        "val_generator = val_datagen.flow_from_dataframe(\n",
        "    dataframe = val_data, \n",
        "    directory  = DATASET_DIR, \n",
        "    x_col = \"Path\", \n",
        "    y_col = \"Label\", \n",
        "    target_size=(224, 224),\n",
        "    color_mode='grayscale', \n",
        "    class_mode='other', \n",
        "    batch_size=32\n",
        ")"
      ],
      "execution_count": 0,
      "outputs": [
        {
          "output_type": "stream",
          "text": [
            "Found 563 images.\n"
          ],
          "name": "stdout"
        }
      ]
    },
    {
      "metadata": {
        "id": "nGGuLDQZRECz",
        "colab_type": "code",
        "outputId": "48097b3c-35eb-4773-837c-377ec5d972f0",
        "colab": {
          "base_uri": "https://localhost:8080/",
          "height": 768
        }
      },
      "cell_type": "code",
      "source": [
        "model.fit_generator(\n",
        "    generator = train_generator, \n",
        "    steps_per_epoch = NUM_SAMPLES/BATCH_SIZE,\n",
        "    epochs=NUM_EPOCHS,\n",
        "    verbose=1, \n",
        "    callbacks=[\n",
        "        EarlyStopping(\n",
        "            monitor='val_loss',\n",
        "            patience=7, \n",
        "            min_delta=0.0001\n",
        "        ),\n",
        "        TensorBoard(\n",
        "            log_dir='Graph_complete', \n",
        "            histogram_freq=0, \n",
        "            write_graph=True, \n",
        "            write_images=True\n",
        "        )\n",
        "    ], \n",
        "    validation_data=val_generator, \n",
        "    validation_steps = VAL_SIZE/BATCH_SIZE,\n",
        "    shuffle=True\n",
        ")"
      ],
      "execution_count": 0,
      "outputs": [
        {
          "output_type": "stream",
          "text": [
            "WARNING:tensorflow:From /usr/local/lib/python3.6/dist-packages/tensorflow/python/ops/math_ops.py:3066: to_int32 (from tensorflow.python.ops.math_ops) is deprecated and will be removed in a future version.\n",
            "Instructions for updating:\n",
            "Use tf.cast instead.\n",
            "Epoch 1/20\n",
            "66/65 [==============================] - 1485s 22s/step - loss: 161.2491 - acc: 0.5090 - mean_squared_error: 0.2806 - val_loss: 127.2593 - val_acc: 0.5188 - val_mean_squared_error: 0.2497\n",
            "Epoch 2/20\n",
            "66/65 [==============================] - 1458s 22s/step - loss: 108.3990 - acc: 0.4853 - mean_squared_error: 0.2800 - val_loss: 88.0488 - val_acc: 0.4625 - val_mean_squared_error: 0.2512\n",
            "Epoch 3/20\n",
            "66/65 [==============================] - 1452s 22s/step - loss: 69.2444 - acc: 0.5147 - mean_squared_error: 0.2718 - val_loss: 54.6434 - val_acc: 0.5375 - val_mean_squared_error: 0.2492\n",
            "Epoch 4/20\n",
            "66/65 [==============================] - 1430s 22s/step - loss: 40.6314 - acc: 0.4851 - mean_squared_error: 0.2638 - val_loss: 29.7548 - val_acc: 0.4558 - val_mean_squared_error: 0.2507\n",
            "Epoch 5/20\n",
            "66/65 [==============================] - 1430s 22s/step - loss: 21.0834 - acc: 0.5090 - mean_squared_error: 0.2539 - val_loss: 14.3041 - val_acc: 0.4938 - val_mean_squared_error: 0.2523\n",
            "Epoch 6/20\n",
            "66/65 [==============================] - 1431s 22s/step - loss: 9.8922 - acc: 0.5028 - mean_squared_error: 0.2516 - val_loss: 6.4465 - val_acc: 0.4938 - val_mean_squared_error: 0.2515\n",
            "Epoch 7/20\n",
            "66/65 [==============================] - 1431s 22s/step - loss: 4.4553 - acc: 0.5137 - mean_squared_error: 0.2505 - val_loss: 2.9332 - val_acc: 0.5188 - val_mean_squared_error: 0.2505\n",
            "Epoch 8/20\n",
            "66/65 [==============================] - 1423s 22s/step - loss: 2.1730 - acc: 0.4849 - mean_squared_error: 0.2510 - val_loss: 1.6279 - val_acc: 0.4558 - val_mean_squared_error: 0.2509\n",
            "Epoch 9/20\n",
            "66/65 [==============================] - 1433s 22s/step - loss: 1.3999 - acc: 0.5118 - mean_squared_error: 0.2506 - val_loss: 1.2451 - val_acc: 0.5000 - val_mean_squared_error: 0.2501\n",
            "Epoch 10/20\n",
            "66/65 [==============================] - 1440s 22s/step - loss: 1.1900 - acc: 0.5080 - mean_squared_error: 0.2502 - val_loss: 1.1545 - val_acc: 0.5188 - val_mean_squared_error: 0.2499\n",
            "Epoch 11/20\n",
            "66/65 [==============================] - 1435s 22s/step - loss: 1.1394 - acc: 0.4815 - mean_squared_error: 0.2508 - val_loss: 1.1232 - val_acc: 0.5374 - val_mean_squared_error: 0.2495\n",
            "Epoch 12/20\n",
            "66/65 [==============================] - 1430s 22s/step - loss: 1.1207 - acc: 0.4883 - mean_squared_error: 0.2509 - val_loss: 1.1200 - val_acc: 0.4250 - val_mean_squared_error: 0.2521\n",
            "Epoch 13/20\n",
            "66/65 [==============================] - 1435s 22s/step - loss: 1.1136 - acc: 0.5009 - mean_squared_error: 0.2503 - val_loss: 1.1147 - val_acc: 0.4938 - val_mean_squared_error: 0.2506\n",
            "Epoch 14/20\n",
            "66/65 [==============================] - 1439s 22s/step - loss: 1.1116 - acc: 0.5128 - mean_squared_error: 0.2503 - val_loss: 1.1088 - val_acc: 0.5500 - val_mean_squared_error: 0.2489\n",
            "Epoch 15/20\n",
            "66/65 [==============================] - 1440s 22s/step - loss: 1.1107 - acc: 0.4972 - mean_squared_error: 0.2505 - val_loss: 1.1071 - val_acc: 0.5442 - val_mean_squared_error: 0.2494\n",
            "Epoch 16/20\n",
            "66/65 [==============================] - 1434s 22s/step - loss: 1.1091 - acc: 0.5087 - mean_squared_error: 0.2504 - val_loss: 1.1040 - val_acc: 0.4437 - val_mean_squared_error: 0.2508\n",
            "Epoch 17/20\n",
            "66/65 [==============================] - 1434s 22s/step - loss: 1.1012 - acc: 0.5099 - mean_squared_error: 0.2497 - val_loss: 1.1039 - val_acc: 0.4625 - val_mean_squared_error: 0.2511\n",
            "Epoch 18/20\n",
            "66/65 [==============================] - 1430s 22s/step - loss: 1.1022 - acc: 0.4669 - mean_squared_error: 0.2513 - val_loss: 1.0942 - val_acc: 0.5646 - val_mean_squared_error: 0.2493\n",
            "Epoch 19/20\n",
            "66/65 [==============================] - 1431s 22s/step - loss: 1.0973 - acc: 0.4972 - mean_squared_error: 0.2503 - val_loss: 1.0937 - val_acc: 0.4875 - val_mean_squared_error: 0.2501\n",
            "Epoch 20/20\n",
            "34/65 [==============>...............] - ETA: 11:10 - loss: 1.0952 - acc: 0.4844 - mean_squared_error: 0.2508"
          ],
          "name": "stdout"
        }
      ]
    },
    {
      "metadata": {
        "id": "9AaQuERERHOM",
        "colab_type": "code",
        "colab": {}
      },
      "cell_type": "code",
      "source": [
        "# Save Model\n",
        "model.save_weights('weight_'+PART_NAME+'.h5')\n",
        "with open('arch_'+PART_NAME+'.json', 'w') as f:\n",
        "    f.write(model.to_json())"
      ],
      "execution_count": 0,
      "outputs": []
    },
    {
      "metadata": {
        "id": "f718M3qBSwT8",
        "colab_type": "code",
        "colab": {}
      },
      "cell_type": "code",
      "source": [
        "from google.colab import files\n",
        "files.download('weight_'+PART_NAME+'.h5')\n",
        "files.download('arch_'+PART_NAME+'.json')\n"
      ],
      "execution_count": 0,
      "outputs": []
    },
    {
      "metadata": {
        "id": "CZiGvmEW3d5-",
        "colab_type": "code",
        "colab": {}
      },
      "cell_type": "code",
      "source": [
        ""
      ],
      "execution_count": 0,
      "outputs": []
    }
  ]
}